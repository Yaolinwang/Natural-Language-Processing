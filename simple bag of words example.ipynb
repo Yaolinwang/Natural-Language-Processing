{
 "cells": [
  {
   "cell_type": "markdown",
   "metadata": {},
   "source": [
    "<h2>Simple bag of words example</h2>\n",
    "<br>\n",
    "Bag of words makes sense when you have a long and tedious article. This method makes life easy. Here is a very basic example of the bag of words. \n",
    "\n",
    "What you need in this method:\n",
    "<li> Dictionaries of positive and negative words.</li>\n",
    "<li> Pre-process input text.</li>\n",
    "<li> Count positive words and negative words.</li>\n",
    "\n",
    "Here we first web scrap positive and negative words from the website. Then conduct text pre-processing. Finally using the bag of words to analyze a sample text."
   ]
  },
  {
   "cell_type": "code",
   "execution_count": 2,
   "metadata": {
    "collapsed": true
   },
   "outputs": [],
   "source": [
    "import datetime\n",
    "import numpy as np\n",
    "from bs4 import BeautifulSoup\n",
    "import requests"
   ]
  },
  {
   "cell_type": "code",
   "execution_count": 3,
   "metadata": {
    "collapsed": true
   },
   "outputs": [],
   "source": [
    "## function for parse online data\n",
    "def get_words(url):\n",
    "    import requests\n",
    "    words = requests.get(url).content.decode('latin-1')\n",
    "    word_list = words.split('\\n')\n",
    "    index = 0\n",
    "    while index < len(word_list):\n",
    "        word = word_list[index]\n",
    "        if ';' in word or not word:\n",
    "            word_list.pop(index)\n",
    "        else:\n",
    "            index+=1\n",
    "    return word_list"
   ]
  },
  {
   "cell_type": "code",
   "execution_count": 4,
   "metadata": {
    "collapsed": true
   },
   "outputs": [],
   "source": [
    "def get_pos_neg_list():\n",
    "    '''Get lists of positive and negative words'''\n",
    "    p_url = 'http://ptrckprry.com/course/ssd/data/positive-words.txt'\n",
    "    n_url = 'http://ptrckprry.com/course/ssd/data/negative-words.txt'\n",
    "    positive_words = get_words(p_url)\n",
    "    negative_words = get_words(n_url)\n",
    "    return positive_words,negative_words"
   ]
  },
  {
   "cell_type": "code",
   "execution_count": 5,
   "metadata": {
    "collapsed": true
   },
   "outputs": [],
   "source": [
    "def remove_punctuation_start(word):\n",
    "    '''remove the punctuation in the text'''\n",
    "    if word and ((word[0] >= 'a' and word[0]<='z') or (word[0] >= 'A' and word[0]<='Z')):\n",
    "        return word\n",
    "    elif word:\n",
    "        return word[1:]\n",
    "    else:\n",
    "        return word\n",
    "\n",
    "def remove_punctuation_end(word):\n",
    "    '''remove the punctuation in the text'''\n",
    "    if word and ((word[-1] >= 'a' and word[-1]<='z') or (word[-1] >= 'A' and word[-1]<='Z')):\n",
    "        return word\n",
    "    elif word:\n",
    "        return word[:-1]\n",
    "    else:\n",
    "        return word"
   ]
  },
  {
   "cell_type": "code",
   "execution_count": 1,
   "metadata": {
    "collapsed": true
   },
   "outputs": [],
   "source": [
    "def pos_neg_ratio(text,positive_words,negative_words):\n",
    "    '''get the ppct,npct,pos_neg_ratio of a text'''\n",
    "    text=text.replace('\\n','')\n",
    "    word_list=text.split()\n",
    "    word_list_1=[remove_punctuation_start(x) for x in word_list]\n",
    "    word_list_2=[remove_punctuation_end(x) for x in word_list_1]\n",
    "    words = word_list_2\n",
    "    cpos=0\n",
    "    cneg=0\n",
    "    for word in words:\n",
    "        if word in positive_words:\n",
    "            cpos += 1\n",
    "        if word in negative_words:\n",
    "            cneg += 1\n",
    "    total_words = len(words)\n",
    "    ppct = cpos/total_words * 100\n",
    "    npct = cneg/total_words * 100\n",
    "    pos_neg_ratio = cpos/cneg\n",
    "    return ppct,npct,pos_neg_ratio"
   ]
  },
  {
   "cell_type": "code",
   "execution_count": 11,
   "metadata": {
    "collapsed": true
   },
   "outputs": [],
   "source": [
    "positive_words,negative_words = get_pos_neg_list()"
   ]
  },
  {
   "cell_type": "code",
   "execution_count": 15,
   "metadata": {
    "collapsed": true
   },
   "outputs": [],
   "source": [
    "text_sample = \"\"\"It is a rain-sodden American flag, half-hidden under the green leaves of fallen trees.\n",
    "A few paces away Judie McRae, 44, is inspecting the damage to her trailer home.\n",
    "Judie has lived more than half of her life here but she says this is her first hurricane. She spent it hunkered down in bed, unable to sleep.\n",
    "She does not want to see another one.\n",
    "\"I just felt like my roof was going to come off at any minute,\" she says, describing a terrible sound of \"cracking and creaking\" that only stopped for a few minutes of calm when the eye of the hurricane passed directly over her head.\n",
    "\"I was very fortunate that only two little windows got broke,\" she says.\n",
    "Exactly how fortunate is obvious. Three of her neighbours' houses lie in ruins. Sheet metal has been twisted out of shape and insulation foam hangs from the trees. Books and clothes are soaking in the rain. One powder blue trailer home has caved in completely, its wooden skeleton broken and exposed.\n",
    "\"\"\""
   ]
  },
  {
   "cell_type": "code",
   "execution_count": 16,
   "metadata": {
    "collapsed": false
   },
   "outputs": [
    {
     "data": {
      "text/plain": [
       "(2.3952095808383236, 5.9880239520958085, 0.4)"
      ]
     },
     "execution_count": 16,
     "metadata": {},
     "output_type": "execute_result"
    }
   ],
   "source": [
    "pos_neg_ratio(text_sample,positive_words,negative_words)"
   ]
  }
 ],
 "metadata": {
  "kernelspec": {
   "display_name": "Python [default]",
   "language": "python",
   "name": "python3"
  },
  "language_info": {
   "codemirror_mode": {
    "name": "ipython",
    "version": 3
   },
   "file_extension": ".py",
   "mimetype": "text/x-python",
   "name": "python",
   "nbconvert_exporter": "python",
   "pygments_lexer": "ipython3",
   "version": "3.5.2"
  }
 },
 "nbformat": 4,
 "nbformat_minor": 2
}
